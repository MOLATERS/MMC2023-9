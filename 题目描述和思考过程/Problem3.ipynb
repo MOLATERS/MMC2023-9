{
 "cells": [
  {
   "cell_type": "code",
   "execution_count": 1,
   "metadata": {},
   "outputs": [
    {
     "name": "stdout",
     "output_type": "stream",
     "text": [
      "最小值n: 1.0\n"
     ]
    },
    {
     "name": "stderr",
     "output_type": "stream",
     "text": [
      "C:\\Users\\Slater\\AppData\\Local\\Temp\\ipykernel_4156\\4195863106.py:40: RuntimeWarning: divide by zero encountered in double_scalars\n",
      "  if not (0.1 <= delta[i] / Wi[i] <= 0.2):\n",
      "C:\\Users\\Slater\\AppData\\Local\\Temp\\ipykernel_4156\\4195863106.py:41: RuntimeWarning: divide by zero encountered in double_scalars\n",
      "  return delta[i] / Wi[i] - 0.2\n",
      "d:\\anaconda3\\lib\\site-packages\\scipy\\optimize\\_numdiff.py:576: RuntimeWarning: invalid value encountered in subtract\n",
      "  df = fun(x) - f0\n"
     ]
    }
   ],
   "source": [
    "import numpy as np\n",
    "from scipy.optimize import minimize\n",
    "import math\n",
    "\n",
    "# 定义目标函数\n",
    "def objective(n):\n",
    "    return n\n",
    "\n",
    "# 定义约束条件\n",
    "def constraint1(n, D, y, gamma, L):\n",
    "    n = int(n)\n",
    "    Wi = np.zeros(n + 1)  # 初始化Wi数组\n",
    "    delta = np.zeros(n)   # 初始化delta数组\n",
    "    # 计算Wi和delta数组\n",
    "    for i in range(int(n)):\n",
    "        Wi[i] = ((np.sin(theta / 2) / np.sin((np.pi - theta) / 2 - alpha)) +\n",
    "                 (np.sin(theta / 2) / np.sin((np.pi - theta) / 2 + alpha))) * D[i]\n",
    "        delta[i] = y[i] + Wi[i] * (1 - gamma) - (y[i + 1] - Wi[i + 1] * gamma)\n",
    "\n",
    "    # 返回约束条件的结果\n",
    "    return np.sum(Wi) - np.sum(delta) - L\n",
    "\n",
    "def constraint2(n, D, y, gamma):\n",
    "    n = int(n)\n",
    "    return y[0] - (D[0] * gamma)\n",
    "\n",
    "def constraint3(n, D, y, gamma, L):\n",
    "    n = int(n)\n",
    "    Wi = np.zeros(n + 1)  # 初始化Wi数组\n",
    "\n",
    "    # 计算最后一个Wi\n",
    "    Wi[n] = ((np.sin(theta / 2) / np.sin((np.pi - theta) / 2 - alpha)) +\n",
    "              (np.sin(theta / 2) / np.sin((np.pi - theta) / 2 + alpha))) * D[n]\n",
    "\n",
    "    return L - y[n] - (Wi[n] * (1 - gamma))\n",
    "\n",
    "def constraint4(n, delta, Wi):\n",
    "    n = int(n)\n",
    "    for i in range(n):\n",
    "        if not (0.1 <= delta[i] / Wi[i] <= 0.2):\n",
    "            return delta[i] / Wi[i] - 0.2\n",
    "    return 0\n",
    "\n",
    "def constraint5(n, delta, Wi):\n",
    "    n = int(n)\n",
    "    for i in range(n):\n",
    "        if not (0.1 <= delta[i] / Wi[i + 1] <= 0.2):\n",
    "            return delta[i] / Wi[i + 1] - 0.2\n",
    "    return 0\n",
    "\n",
    "def constraint6(delta):\n",
    "    return delta  # delta必须非负\n",
    "\n",
    "# 初始化参数\n",
    "n0 = 1\n",
    "theta = np.deg2rad(1.5)\n",
    "alpha = np.deg2rad(0)\n",
    "L = 1825 * 4\n",
    "n = 20  # 可以根据需要设置n的初始值\n",
    "y = np.linspace(0, L, n + 1)  # 初始化y数组\n",
    "D = y * math.tan(math.radians(1.5)) - 2*1850*math.tan(math.radians(1.5)) +110  # 初始化D数组\n",
    "numerator = math.sin(theta/2) / math.sin((math.pi - theta)/2 - alpha) + math.sin(theta/2) / math.sin((math.pi- theta)/2 + alpha)\n",
    "    # 计算Wn\n",
    "Wi = D * numerator * math.cos(alpha)\n",
    "gamma = np.sin(np.deg2rad(61.5)) / (np.sin(np.deg2rad(61.5)) + np.sin(np.deg2rad(58.5)))\n",
    "\n",
    "\n",
    "# 最小化目标函数\n",
    "constraints = [\n",
    "    {'type': 'eq', 'fun': constraint1, 'args': (D, y, gamma, L)},\n",
    "    {'type': 'eq', 'fun': constraint2, 'args': (D, y, gamma)},\n",
    "    {'type': 'eq', 'fun': constraint3, 'args': (D, y, gamma, L)},\n",
    "    {'type': 'ineq', 'fun': constraint4, 'args': (D, y)},\n",
    "    {'type': 'ineq', 'fun': constraint5, 'args': (D, y)},\n",
    "    {'type': 'ineq', 'fun': constraint6},\n",
    "]\n",
    "\n",
    "result = minimize(objective, n0, constraints=constraints)\n",
    "\n",
    "# 输出结果\n",
    "print(\"最小值n:\", result.x[0])\n"
   ]
  }
 ],
 "metadata": {
  "kernelspec": {
   "display_name": "base",
   "language": "python",
   "name": "python3"
  },
  "language_info": {
   "codemirror_mode": {
    "name": "ipython",
    "version": 3
   },
   "file_extension": ".py",
   "mimetype": "text/x-python",
   "name": "python",
   "nbconvert_exporter": "python",
   "pygments_lexer": "ipython3",
   "version": "3.10.9"
  },
  "orig_nbformat": 4
 },
 "nbformat": 4,
 "nbformat_minor": 2
}
