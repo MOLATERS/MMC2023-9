{
 "cells": [
  {
   "cell_type": "code",
   "execution_count": 10,
   "metadata": {},
   "outputs": [
    {
     "name": "stdout",
     "output_type": "stream",
     "text": [
      "Positive directional derivative for linesearch    (Exit mode 8)\n",
      "            Current function value: 10.0\n",
      "            Iterations: 33\n",
      "            Function evaluations: 551\n",
      "            Gradient evaluations: 29\n",
      "The minimum value of n is: 10\n"
     ]
    }
   ],
   "source": [
    "import numpy as np\n",
    "from scipy.optimize import minimize\n",
    "import math \n",
    "# Define constants\n",
    "L = 1852 * 4\n",
    "gamma = np.sin(np.radians(31.5)) / (np.sin(np.radians(31.5)) + np.sin(np.radians(28.5)))\n",
    "alpha = np.radians(1.5)\n",
    "theta = np.radians(120)\n",
    "\n",
    "def objective(z):\n",
    "    return math.sqrt(len(z)**2)\n",
    "\n",
    "def constraint1(z):\n",
    "    y = np.cumsum(z)\n",
    "    D = (2 * 1852 * np.tan(np.radians(1.5)) + 110) - y * np.tan(np.radians(1.5))\n",
    "    W = (np.sin(theta) * (np.cos(alpha) ** 2)) / (np.cos(theta / 2 + alpha) * np.cos(theta / 2 - alpha)) * D\n",
    "    y_next=np.append(y[1:],0)\n",
    "    W_next=np.append(W[1:],0)\n",
    "    delta=y+W*(1-gamma)-(y_next-W_next*gamma)\n",
    "    return sum(W)-sum(delta)-L\n",
    "\n",
    "def constraint2(z):\n",
    "    y = np.cumsum(z)\n",
    "    D_n = (2*1852*np.tan(alpha)+110)-y[-1]*np.tan(alpha)\n",
    "    W_n=(np.sin(theta)*(np.cos(alpha)**2))/(np.cos(theta/2+alpha)*np.cos(theta/2-alpha))*D_n\n",
    "    return L-y[-1]-W_n*(1-gamma)\n",
    "\n",
    "constraints=[{'type':'eq','fun':constraint1},\n",
    "             {'type':'eq','fun':constraint2}]\n",
    "\n",
    "# Initial guess for z: an array of ones.\n",
    "n0=10 # initial guess for number of variables in 'z'\n",
    "z0=np.ones(n0)\n",
    "\n",
    "# Bounds for z: each element must be between 0 and L.\n",
    "bounds_z=[(0,L)]*n0\n",
    "\n",
    "result=minimize(objective,z0,method='SLSQP',bounds=bounds_z,constraints=constraints,options={'disp':True})\n",
    "\n",
    "print('The minimum value of n is:',len(result.x))\n"
   ]
  },
  {
   "cell_type": "code",
   "execution_count": 19,
   "metadata": {},
   "outputs": [
    {
     "ename": "TypeError",
     "evalue": "object of type 'NoneType' has no len()",
     "output_type": "error",
     "traceback": [
      "\u001b[1;31m---------------------------------------------------------------------------\u001b[0m",
      "\u001b[1;31mTypeError\u001b[0m                                 Traceback (most recent call last)",
      "\u001b[1;32mc:\\Users\\Slater\\Desktop\\Math\\题目描述和思考过程\\Problem3.ipynb 单元格 2\u001b[0m line \u001b[0;36m3\n\u001b[0;32m     <a href='vscode-notebook-cell:/c%3A/Users/Slater/Desktop/Math/%E9%A2%98%E7%9B%AE%E6%8F%8F%E8%BF%B0%E5%92%8C%E6%80%9D%E8%80%83%E8%BF%87%E7%A8%8B/Problem3.ipynb#W1sZmlsZQ%3D%3D?line=31'>32</a>\u001b[0m prob\u001b[39m=\u001b[39mcp\u001b[39m.\u001b[39mProblem(objective,constraints)\n\u001b[0;32m     <a href='vscode-notebook-cell:/c%3A/Users/Slater/Desktop/Math/%E9%A2%98%E7%9B%AE%E6%8F%8F%E8%BF%B0%E5%92%8C%E6%80%9D%E8%80%83%E8%BF%87%E7%A8%8B/Problem3.ipynb#W1sZmlsZQ%3D%3D?line=33'>34</a>\u001b[0m result\u001b[39m=\u001b[39mprob\u001b[39m.\u001b[39msolve()\n\u001b[1;32m---> <a href='vscode-notebook-cell:/c%3A/Users/Slater/Desktop/Math/%E9%A2%98%E7%9B%AE%E6%8F%8F%E8%BF%B0%E5%92%8C%E6%80%9D%E8%80%83%E8%BF%87%E7%A8%8B/Problem3.ipynb#W1sZmlsZQ%3D%3D?line=35'>36</a>\u001b[0m \u001b[39mprint\u001b[39m(\u001b[39m'\u001b[39m\u001b[39mThe minimum value of n is:\u001b[39m\u001b[39m'\u001b[39m, \u001b[39mlen\u001b[39;49m(z\u001b[39m.\u001b[39;49mvalue))\n",
      "\u001b[1;31mTypeError\u001b[0m: object of type 'NoneType' has no len()"
     ]
    }
   ],
   "source": [
    "import cvxpy as cp\n",
    "import numpy as np\n",
    "from math import *\n",
    "# Define constants\n",
    "L = 1825 * 4\n",
    "gamma = sin(np.radians(61.5)) / (sin(np.radians(61.5)) + sin(np.radians(58.5)))\n",
    "alpha = np.radians(1.5)\n",
    "theta = np.radians(120)\n",
    "\n",
    "# Number of variables (initial guess)\n",
    "n0=10 \n",
    "\n",
    "# Define variables\n",
    "z = cp.Variable(n0)\n",
    "\n",
    "# Define y in terms of z (cumulative sum)\n",
    "y = cp.cumsum(z)\n",
    "\n",
    "# Define D, W, and delta in terms of y\n",
    "D = (2 * 1852*tan(alpha) + 110) - y * tan(alpha)\n",
    "W = (sin(theta) * (cos(alpha) ** 2)) / (cos(theta / 2 + alpha) * cos(theta / 2 - alpha)) * D\n",
    "\n",
    "delta=y+W*(1-gamma)-(cp.hstack([y[1:],0])-cp.hstack([W[1:],0])*gamma)\n",
    "\n",
    "constraints=[cp.sum(W)-cp.sum(delta)==L,\n",
    "             L-y[-1]-(sin(theta)*(cos(alpha)**2))/(cos(theta/2+alpha)*cos(theta/2-alpha))*((2*1852*tan(alpha)+110)-y[-1]*tan(alpha))*(1-gamma)>=0,\n",
    "             z>=0,\n",
    "             y<=L]\n",
    "\n",
    "objective=cp.Minimize(n0)\n",
    "\n",
    "prob=cp.Problem(objective,constraints)\n",
    "\n",
    "result=prob.solve()\n",
    "\n",
    "print('The minimum value of n is:', len(z.value))\n"
   ]
  }
 ],
 "metadata": {
  "kernelspec": {
   "display_name": "base",
   "language": "python",
   "name": "python3"
  },
  "language_info": {
   "codemirror_mode": {
    "name": "ipython",
    "version": 3
   },
   "file_extension": ".py",
   "mimetype": "text/x-python",
   "name": "python",
   "nbconvert_exporter": "python",
   "pygments_lexer": "ipython3",
   "version": "3.10.9"
  },
  "orig_nbformat": 4
 },
 "nbformat": 4,
 "nbformat_minor": 2
}
